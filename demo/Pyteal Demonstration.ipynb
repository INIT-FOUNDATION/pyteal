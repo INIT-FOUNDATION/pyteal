{
 "cells": [
  {
   "cell_type": "markdown",
   "metadata": {},
   "source": [
    "# Pyteal Working Examples"
   ]
  },
  {
   "cell_type": "markdown",
   "metadata": {},
   "source": [
    "Pyteal is a python library for Teal to help algorand developers to get easy and smooth developing experiences. It can work on its own or together with Python SDK."
   ]
  },
  {
   "cell_type": "markdown",
   "metadata": {},
   "source": [
    "### A simple pyteal program"
   ]
  },
  {
   "cell_type": "code",
   "execution_count": 8,
   "metadata": {},
   "outputs": [
    {
     "name": "stdout",
     "output_type": "stream",
     "text": [
      "(TealSimpleBlock([TealOp((Txn Fee), txn, 'Fee')], next=TealSimpleBlock([TealOp((Int: 300), int, 300)], next=TealSimpleBlock([TealOp((< (Txn Fee) (Int: 300)), <)], next=None))), TealSimpleBlock([TealOp((< (Txn Fee) (Int: 300)), <)], next=None))\n"
     ]
    }
   ],
   "source": [
    "from pyteal import *\n",
    "\n",
    "OPTIONS = CompileOptions(version=2)\n",
    "\n",
    "\"\"\" fee is less than 300\n",
    "\"\"\"\n",
    "cond = Txn.fee() < Int(300)\n",
    "print(cond.__teal__(OPTIONS))"
   ]
  },
  {
   "cell_type": "markdown",
   "metadata": {},
   "source": [
    "### Oops, type error"
   ]
  },
  {
   "cell_type": "code",
   "execution_count": 5,
   "metadata": {},
   "outputs": [
    {
     "ename": "TealTypeError",
     "evalue": "TealType.bytes while expected TealType.uint64 ",
     "output_type": "error",
     "traceback": [
      "\u001b[0;31m---------------------------------------------------------------------------\u001b[0m",
      "\u001b[0;31mTealTypeError\u001b[0m                             Traceback (most recent call last)",
      "\u001b[1;32m/Users/zeph/github/algorand/pyteal/demo/Pyteal Demonstration.ipynb Cell 6'\u001b[0m in \u001b[0;36m<cell line: 4>\u001b[0;34m()\u001b[0m\n\u001b[1;32m      <a href='vscode-notebook-cell:/Users/zeph/github/algorand/pyteal/demo/Pyteal%20Demonstration.ipynb#ch0000005?line=0'>1</a>\u001b[0m \u001b[39mfrom\u001b[39;00m \u001b[39mpyteal\u001b[39;00m \u001b[39mimport\u001b[39;00m \u001b[39m*\u001b[39m\n\u001b[1;32m      <a href='vscode-notebook-cell:/Users/zeph/github/algorand/pyteal/demo/Pyteal%20Demonstration.ipynb#ch0000005?line=1'>2</a>\u001b[0m \u001b[39m\"\"\" type error\u001b[39;00m\n\u001b[1;32m      <a href='vscode-notebook-cell:/Users/zeph/github/algorand/pyteal/demo/Pyteal%20Demonstration.ipynb#ch0000005?line=2'>3</a>\u001b[0m \u001b[39m\"\"\"\u001b[39;00m\n\u001b[0;32m----> <a href='vscode-notebook-cell:/Users/zeph/github/algorand/pyteal/demo/Pyteal%20Demonstration.ipynb#ch0000005?line=3'>4</a>\u001b[0m cond \u001b[39m=\u001b[39m Txn\u001b[39m.\u001b[39;49mfee() \u001b[39m<\u001b[39;49m Txn\u001b[39m.\u001b[39;49mreceiver()\n",
      "File \u001b[0;32m~/github/algorand/pyteal/pyteal/ast/expr.py:45\u001b[0m, in \u001b[0;36mExpr.__lt__\u001b[0;34m(self, other)\u001b[0m\n\u001b[1;32m     <a href='file:///Users/zeph/github/algorand/pyteal/pyteal/ast/expr.py?line=41'>42</a>\u001b[0m \u001b[39mdef\u001b[39;00m \u001b[39m__lt__\u001b[39m(\u001b[39mself\u001b[39m, other):\n\u001b[1;32m     <a href='file:///Users/zeph/github/algorand/pyteal/pyteal/ast/expr.py?line=42'>43</a>\u001b[0m     \u001b[39mfrom\u001b[39;00m \u001b[39m.\u001b[39;00m\u001b[39mbinaryexpr\u001b[39;00m \u001b[39mimport\u001b[39;00m Lt\n\u001b[0;32m---> <a href='file:///Users/zeph/github/algorand/pyteal/pyteal/ast/expr.py?line=44'>45</a>\u001b[0m     \u001b[39mreturn\u001b[39;00m Lt(\u001b[39mself\u001b[39;49m, other)\n",
      "File \u001b[0;32m~/github/algorand/pyteal/pyteal/ast/binaryexpr.py:232\u001b[0m, in \u001b[0;36mLt\u001b[0;34m(left, right)\u001b[0m\n\u001b[1;32m    <a href='file:///Users/zeph/github/algorand/pyteal/pyteal/ast/binaryexpr.py?line=222'>223</a>\u001b[0m \u001b[39mdef\u001b[39;00m \u001b[39mLt\u001b[39m(left: Expr, right: Expr) \u001b[39m-\u001b[39m\u001b[39m>\u001b[39m BinaryExpr:\n\u001b[1;32m    <a href='file:///Users/zeph/github/algorand/pyteal/pyteal/ast/binaryexpr.py?line=223'>224</a>\u001b[0m     \u001b[39m\"\"\"Less than expression.\u001b[39;00m\n\u001b[1;32m    <a href='file:///Users/zeph/github/algorand/pyteal/pyteal/ast/binaryexpr.py?line=224'>225</a>\u001b[0m \n\u001b[1;32m    <a href='file:///Users/zeph/github/algorand/pyteal/pyteal/ast/binaryexpr.py?line=225'>226</a>\u001b[0m \u001b[39m    Checks if left < right.\u001b[39;00m\n\u001b[0;32m   (...)\u001b[0m\n\u001b[1;32m    <a href='file:///Users/zeph/github/algorand/pyteal/pyteal/ast/binaryexpr.py?line=229'>230</a>\u001b[0m \u001b[39m        right: Must evaluate to uint64.\u001b[39;00m\n\u001b[1;32m    <a href='file:///Users/zeph/github/algorand/pyteal/pyteal/ast/binaryexpr.py?line=230'>231</a>\u001b[0m \u001b[39m    \"\"\"\u001b[39;00m\n\u001b[0;32m--> <a href='file:///Users/zeph/github/algorand/pyteal/pyteal/ast/binaryexpr.py?line=231'>232</a>\u001b[0m     \u001b[39mreturn\u001b[39;00m BinaryExpr(Op\u001b[39m.\u001b[39;49mlt, TealType\u001b[39m.\u001b[39;49muint64, TealType\u001b[39m.\u001b[39;49muint64, left, right)\n",
      "File \u001b[0;32m~/github/algorand/pyteal/pyteal/ast/binaryexpr.py:30\u001b[0m, in \u001b[0;36mBinaryExpr.__init__\u001b[0;34m(self, op, inputType, outputType, argLeft, argRight)\u001b[0m\n\u001b[1;32m     <a href='file:///Users/zeph/github/algorand/pyteal/pyteal/ast/binaryexpr.py?line=27'>28</a>\u001b[0m     rightType \u001b[39m=\u001b[39m leftType\n\u001b[1;32m     <a href='file:///Users/zeph/github/algorand/pyteal/pyteal/ast/binaryexpr.py?line=28'>29</a>\u001b[0m require_type(argLeft, leftType)\n\u001b[0;32m---> <a href='file:///Users/zeph/github/algorand/pyteal/pyteal/ast/binaryexpr.py?line=29'>30</a>\u001b[0m require_type(argRight, rightType)\n\u001b[1;32m     <a href='file:///Users/zeph/github/algorand/pyteal/pyteal/ast/binaryexpr.py?line=31'>32</a>\u001b[0m \u001b[39mself\u001b[39m\u001b[39m.\u001b[39mop \u001b[39m=\u001b[39m op\n\u001b[1;32m     <a href='file:///Users/zeph/github/algorand/pyteal/pyteal/ast/binaryexpr.py?line=32'>33</a>\u001b[0m \u001b[39mself\u001b[39m\u001b[39m.\u001b[39moutputType \u001b[39m=\u001b[39m outputType\n",
      "File \u001b[0;32m~/github/algorand/pyteal/pyteal/types.py:38\u001b[0m, in \u001b[0;36mrequire_type\u001b[0;34m(input, expected)\u001b[0m\n\u001b[1;32m     <a href='file:///Users/zeph/github/algorand/pyteal/pyteal/types.py?line=30'>31</a>\u001b[0m     \u001b[39mraise\u001b[39;00m \u001b[39mTypeError\u001b[39;00m(\u001b[39mf\u001b[39m\u001b[39m\"\u001b[39m\u001b[39mExpected a \u001b[39m\u001b[39m{\u001b[39;00mexpected\u001b[39m}\u001b[39;00m\u001b[39m object, but got a \u001b[39m\u001b[39m{\u001b[39;00m\u001b[39mtype\u001b[39m(\u001b[39minput\u001b[39m)\u001b[39m}\u001b[39;00m\u001b[39m\"\u001b[39m)\n\u001b[1;32m     <a href='file:///Users/zeph/github/algorand/pyteal/pyteal/types.py?line=32'>33</a>\u001b[0m \u001b[39mif\u001b[39;00m actual \u001b[39m!=\u001b[39m expected \u001b[39mand\u001b[39;00m (\n\u001b[1;32m     <a href='file:///Users/zeph/github/algorand/pyteal/pyteal/types.py?line=33'>34</a>\u001b[0m     expected \u001b[39m==\u001b[39m TealType\u001b[39m.\u001b[39mnone\n\u001b[1;32m     <a href='file:///Users/zeph/github/algorand/pyteal/pyteal/types.py?line=34'>35</a>\u001b[0m     \u001b[39mor\u001b[39;00m actual \u001b[39m==\u001b[39m TealType\u001b[39m.\u001b[39mnone\n\u001b[1;32m     <a href='file:///Users/zeph/github/algorand/pyteal/pyteal/types.py?line=35'>36</a>\u001b[0m     \u001b[39mor\u001b[39;00m (actual \u001b[39m!=\u001b[39m TealType\u001b[39m.\u001b[39manytype \u001b[39mand\u001b[39;00m expected \u001b[39m!=\u001b[39m TealType\u001b[39m.\u001b[39manytype)\n\u001b[1;32m     <a href='file:///Users/zeph/github/algorand/pyteal/pyteal/types.py?line=36'>37</a>\u001b[0m ):\n\u001b[0;32m---> <a href='file:///Users/zeph/github/algorand/pyteal/pyteal/types.py?line=37'>38</a>\u001b[0m     \u001b[39mraise\u001b[39;00m TealTypeError(actual, expected)\n",
      "\u001b[0;31mTealTypeError\u001b[0m: TealType.bytes while expected TealType.uint64 "
     ]
    }
   ],
   "source": [
    "from pyteal import *\n",
    "\"\"\" type error\n",
    "\"\"\"\n",
    "cond = Txn.fee() < Txn.receiver()"
   ]
  },
  {
   "cell_type": "markdown",
   "metadata": {},
   "source": [
    "### Hased Time Locked Contract"
   ]
  },
  {
   "cell_type": "code",
   "execution_count": 11,
   "metadata": {},
   "outputs": [
    {
     "name": "stdout",
     "output_type": "stream",
     "text": [
      "(TealSimpleBlock([TealOp((Txn Fee), txn, 'Fee')], next=TealSimpleBlock([TealOp((Int: 300), int, 300)], next=TealSimpleBlock([TealOp((< (Txn Fee) (Int: 300)), <)], next=TealSimpleBlock([TealOp((Txn TypeEnum), txn, 'TypeEnum')], next=TealSimpleBlock([TealOp((Int: 1), int, 1)], next=TealSimpleBlock([TealOp((== (Txn TypeEnum) (Int: 1)), ==)], next=TealSimpleBlock([TealOp((&& (< (Txn Fee) (Int: 300)) (== (Txn TypeEnum) (Int: 1)) (|| (&& (== (Txn CloseRemainderTo) (Global ZeroAddress)) (== (Txn Receiver) (address: 6ZHGHH5Z5CTPCF5WCESXMGRSVK7QJETR63M3NY5FJCUYDHO57VTCMJOBGY)) (== (sha256 (arg 0)) (base32 bytes: 2323232323232323))) (&& (== (Txn CloseRemainderTo) (Global ZeroAddress)) (== (Txn Receiver) (address: 7Z5PWO2C6LFNQFGHWKSK5H47IQP5OJW2M3HA2QPXTY3WTNP5NU2MHBW27M)) (> (Txn FirstValid) (Int: 3000))))), &&)], next=TealSimpleBlock([TealOp((Txn CloseRemainderTo), txn, 'CloseRemainderTo')], next=TealSimpleBlock([TealOp((Global ZeroAddress), global, 'ZeroAddress')], next=TealSimpleBlock([TealOp((== (Txn CloseRemainderTo) (Global ZeroAddress)), ==)], next=TealSimpleBlock([TealOp((Txn Receiver), txn, 'Receiver')], next=TealSimpleBlock([TealOp((address: 6ZHGHH5Z5CTPCF5WCESXMGRSVK7QJETR63M3NY5FJCUYDHO57VTCMJOBGY), addr, '6ZHGHH5Z5CTPCF5WCESXMGRSVK7QJETR63M3NY5FJCUYDHO57VTCMJOBGY')], next=TealSimpleBlock([TealOp((== (Txn Receiver) (address: 6ZHGHH5Z5CTPCF5WCESXMGRSVK7QJETR63M3NY5FJCUYDHO57VTCMJOBGY)), ==)], next=TealSimpleBlock([TealOp((&& (== (Txn CloseRemainderTo) (Global ZeroAddress)) (== (Txn Receiver) (address: 6ZHGHH5Z5CTPCF5WCESXMGRSVK7QJETR63M3NY5FJCUYDHO57VTCMJOBGY)) (== (sha256 (arg 0)) (base32 bytes: 2323232323232323))), &&)], next=TealSimpleBlock([TealOp((arg 0), arg, 0)], next=TealSimpleBlock([TealOp((sha256 (arg 0)), sha256)], next=TealSimpleBlock([TealOp((base32 bytes: 2323232323232323), byte, 'base32(2323232323232323)')], next=TealSimpleBlock([TealOp((== (sha256 (arg 0)) (base32 bytes: 2323232323232323)), ==)], next=TealSimpleBlock([TealOp((&& (== (Txn CloseRemainderTo) (Global ZeroAddress)) (== (Txn Receiver) (address: 6ZHGHH5Z5CTPCF5WCESXMGRSVK7QJETR63M3NY5FJCUYDHO57VTCMJOBGY)) (== (sha256 (arg 0)) (base32 bytes: 2323232323232323))), &&)], next=TealSimpleBlock([TealOp((Txn CloseRemainderTo), txn, 'CloseRemainderTo')], next=TealSimpleBlock([TealOp((Global ZeroAddress), global, 'ZeroAddress')], next=TealSimpleBlock([TealOp((== (Txn CloseRemainderTo) (Global ZeroAddress)), ==)], next=TealSimpleBlock([TealOp((Txn Receiver), txn, 'Receiver')], next=TealSimpleBlock([TealOp((address: 7Z5PWO2C6LFNQFGHWKSK5H47IQP5OJW2M3HA2QPXTY3WTNP5NU2MHBW27M), addr, '7Z5PWO2C6LFNQFGHWKSK5H47IQP5OJW2M3HA2QPXTY3WTNP5NU2MHBW27M')], next=TealSimpleBlock([TealOp((== (Txn Receiver) (address: 7Z5PWO2C6LFNQFGHWKSK5H47IQP5OJW2M3HA2QPXTY3WTNP5NU2MHBW27M)), ==)], next=TealSimpleBlock([TealOp((&& (== (Txn CloseRemainderTo) (Global ZeroAddress)) (== (Txn Receiver) (address: 7Z5PWO2C6LFNQFGHWKSK5H47IQP5OJW2M3HA2QPXTY3WTNP5NU2MHBW27M)) (> (Txn FirstValid) (Int: 3000))), &&)], next=TealSimpleBlock([TealOp((Txn FirstValid), txn, 'FirstValid')], next=TealSimpleBlock([TealOp((Int: 3000), int, 3000)], next=TealSimpleBlock([TealOp((> (Txn FirstValid) (Int: 3000)), >)], next=TealSimpleBlock([TealOp((&& (== (Txn CloseRemainderTo) (Global ZeroAddress)) (== (Txn Receiver) (address: 7Z5PWO2C6LFNQFGHWKSK5H47IQP5OJW2M3HA2QPXTY3WTNP5NU2MHBW27M)) (> (Txn FirstValid) (Int: 3000))), &&)], next=TealSimpleBlock([TealOp((|| (&& (== (Txn CloseRemainderTo) (Global ZeroAddress)) (== (Txn Receiver) (address: 6ZHGHH5Z5CTPCF5WCESXMGRSVK7QJETR63M3NY5FJCUYDHO57VTCMJOBGY)) (== (sha256 (arg 0)) (base32 bytes: 2323232323232323))) (&& (== (Txn CloseRemainderTo) (Global ZeroAddress)) (== (Txn Receiver) (address: 7Z5PWO2C6LFNQFGHWKSK5H47IQP5OJW2M3HA2QPXTY3WTNP5NU2MHBW27M)) (> (Txn FirstValid) (Int: 3000)))), ||)], next=TealSimpleBlock([TealOp((&& (< (Txn Fee) (Int: 300)) (== (Txn TypeEnum) (Int: 1)) (|| (&& (== (Txn CloseRemainderTo) (Global ZeroAddress)) (== (Txn Receiver) (address: 6ZHGHH5Z5CTPCF5WCESXMGRSVK7QJETR63M3NY5FJCUYDHO57VTCMJOBGY)) (== (sha256 (arg 0)) (base32 bytes: 2323232323232323))) (&& (== (Txn CloseRemainderTo) (Global ZeroAddress)) (== (Txn Receiver) (address: 7Z5PWO2C6LFNQFGHWKSK5H47IQP5OJW2M3HA2QPXTY3WTNP5NU2MHBW27M)) (> (Txn FirstValid) (Int: 3000))))), &&)], next=None)))))))))))))))))))))))))))))))), TealSimpleBlock([TealOp((&& (< (Txn Fee) (Int: 300)) (== (Txn TypeEnum) (Int: 1)) (|| (&& (== (Txn CloseRemainderTo) (Global ZeroAddress)) (== (Txn Receiver) (address: 6ZHGHH5Z5CTPCF5WCESXMGRSVK7QJETR63M3NY5FJCUYDHO57VTCMJOBGY)) (== (sha256 (arg 0)) (base32 bytes: 2323232323232323))) (&& (== (Txn CloseRemainderTo) (Global ZeroAddress)) (== (Txn Receiver) (address: 7Z5PWO2C6LFNQFGHWKSK5H47IQP5OJW2M3HA2QPXTY3WTNP5NU2MHBW27M)) (> (Txn FirstValid) (Int: 3000))))), &&)], next=None))\n"
     ]
    }
   ],
   "source": [
    "from pyteal import *\n",
    "\n",
    "\"\"\" Hashed Time Locked Contract\n",
    "\"\"\"\n",
    "alice = Addr(\"6ZHGHH5Z5CTPCF5WCESXMGRSVK7QJETR63M3NY5FJCUYDHO57VTCMJOBGY\")\n",
    "bob = Addr(\"7Z5PWO2C6LFNQFGHWKSK5H47IQP5OJW2M3HA2QPXTY3WTNP5NU2MHBW27M\")\n",
    "secret = Bytes(\"base32\", \"2323232323232323\")\n",
    "\n",
    "fee_cond = Txn.fee() < Int(300)\n",
    "type_cond = Txn.type_enum() == Int(1)\n",
    "recv_cond = And(Txn.close_remainder_to() == Global.zero_address(),\n",
    "                Txn.receiver() == alice,\n",
    "                Sha256(Arg(0)) == secret)\n",
    "esc_cond = And(Txn.close_remainder_to()  == Global.zero_address(),\n",
    "               Txn.receiver() == bob,\n",
    "               Txn.first_valid() > Int(3000))\n",
    "\n",
    "atomic_swap = And(fee_cond,\n",
    "                  type_cond,\n",
    "                  recv_cond.Or(esc_cond))   \n",
    "\n",
    "print(atomic_swap.__teal__(OPTIONS))"
   ]
  },
  {
   "cell_type": "code",
   "execution_count": null,
   "metadata": {},
   "outputs": [],
   "source": []
  }
 ],
 "metadata": {
  "kernelspec": {
   "display_name": "Python 3",
   "language": "python",
   "name": "python3"
  },
  "language_info": {
   "codemirror_mode": {
    "name": "ipython",
    "version": 3
   },
   "file_extension": ".py",
   "mimetype": "text/x-python",
   "name": "python",
   "nbconvert_exporter": "python",
   "pygments_lexer": "ipython3",
   "version": "3.10.2"
  }
 },
 "nbformat": 4,
 "nbformat_minor": 2
}
